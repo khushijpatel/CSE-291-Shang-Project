{
  "cells": [
    {
      "cell_type": "code",
      "execution_count": null,
      "metadata": {
        "id": "3KzZAaN18Kmr"
      },
      "outputs": [],
      "source": [
        "import pandas as pd"
      ]
    },
    {
      "cell_type": "code",
      "execution_count": null,
      "metadata": {
        "id": "3v6NUmMn8MjY"
      },
      "outputs": [],
      "source": [
        "bloomz = pd.read_csv('bloomz_results.csv')\n",
        "flan = pd.read_csv('flan_results.csv')\n",
        "gptneo = pd.read_csv('neo_results.csv')\n",
        "gpt2 = pd.read_csv('gpt_results.csv')\n",
        "opt = pd.read_csv('opt_results.csv', on_bad_lines='skip')"
      ]
    },
    {
      "cell_type": "code",
      "execution_count": null,
      "metadata": {
        "colab": {
          "base_uri": "https://localhost:8080/"
        },
        "id": "U1t-t2bs_ILE",
        "outputId": "e43669b3-311e-4481-d179-7b94d5d28ba0"
      },
      "outputs": [
        {
          "data": {
            "text/plain": [
              "array(['public health', 'social issues', 'domestic policy',\n",
              "       'environmental policy', 'foreign policy', 'economy and taxation',\n",
              "       'immigration', 'education policy'], dtype=object)"
            ]
          },
          "execution_count": 6,
          "metadata": {},
          "output_type": "execute_result"
        }
      ],
      "source": [
        "bloomz_labels = bloomz['label']\n",
        "bloomz_labels.unique()"
      ]
    },
    {
      "cell_type": "code",
      "execution_count": null,
      "metadata": {
        "colab": {
          "base_uri": "https://localhost:8080/"
        },
        "id": "deAGcNCe8ui4",
        "outputId": "3ff1c63a-08c0-4079-cb24-433d652b3990"
      },
      "outputs": [
        {
          "data": {
            "text/plain": [
              "(100, 100, 100, 100, 99)"
            ]
          },
          "execution_count": 12,
          "metadata": {},
          "output_type": "execute_result"
        }
      ],
      "source": [
        "len(bloomz), len(flan), len(gptneo), len(gpt2), len(opt)"
      ]
    },
    {
      "cell_type": "code",
      "execution_count": null,
      "metadata": {
        "id": "BKEjL7Qy8z6o"
      },
      "outputs": [],
      "source": [
        "bloomz_answers = bloomz['answer']\n",
        "flan_answers = flan['answer']\n",
        "gptneo_answers = gptneo['answer']\n",
        "gpt2_answers = gpt2['answer']\n",
        "opt_answers = opt['answer']"
      ]
    },
    {
      "cell_type": "code",
      "execution_count": null,
      "metadata": {
        "colab": {
          "base_uri": "https://localhost:8080/"
        },
        "id": "6EosjpEM89f5",
        "outputId": "65d1df93-7e2c-403e-aad1-b8b67614818b"
      },
      "outputs": [
        {
          "data": {
            "text/plain": [
              "(100, 100, 100, 100, 99)"
            ]
          },
          "execution_count": 14,
          "metadata": {},
          "output_type": "execute_result"
        }
      ],
      "source": [
        "len(bloomz_answers), len(flan_answers), len(gptneo_answers), len(gpt2_answers), len(opt_answers)"
      ]
    },
    {
      "cell_type": "code",
      "execution_count": null,
      "metadata": {
        "id": "ujwbXrrlZBhM"
      },
      "outputs": [],
      "source": [
        "train_data = pd.read_csv('train.csv')\n",
        "train_answers = train_data['text']"
      ]
    },
    {
      "cell_type": "code",
      "execution_count": null,
      "metadata": {
        "colab": {
          "base_uri": "https://localhost:8080/",
          "height": 241
        },
        "id": "AyMVQESDZK3v",
        "outputId": "08e1470a-54ab-4012-a63c-c9346a25cf5c"
      },
      "outputs": [
        {
          "data": {
            "text/html": [
              "<div>\n",
              "<style scoped>\n",
              "    .dataframe tbody tr th:only-of-type {\n",
              "        vertical-align: middle;\n",
              "    }\n",
              "\n",
              "    .dataframe tbody tr th {\n",
              "        vertical-align: top;\n",
              "    }\n",
              "\n",
              "    .dataframe thead th {\n",
              "        text-align: right;\n",
              "    }\n",
              "</style>\n",
              "<table border=\"1\" class=\"dataframe\">\n",
              "  <thead>\n",
              "    <tr style=\"text-align: right;\">\n",
              "      <th></th>\n",
              "      <th>count</th>\n",
              "    </tr>\n",
              "    <tr>\n",
              "      <th>party</th>\n",
              "      <th></th>\n",
              "    </tr>\n",
              "  </thead>\n",
              "  <tbody>\n",
              "    <tr>\n",
              "      <th>democrat</th>\n",
              "      <td>95677</td>\n",
              "    </tr>\n",
              "    <tr>\n",
              "      <th>republican</th>\n",
              "      <td>94223</td>\n",
              "    </tr>\n",
              "    <tr>\n",
              "      <th>neutral</th>\n",
              "      <td>3429</td>\n",
              "    </tr>\n",
              "    <tr>\n",
              "      <th>independent</th>\n",
              "      <td>142</td>\n",
              "    </tr>\n",
              "  </tbody>\n",
              "</table>\n",
              "</div><br><label><b>dtype:</b> int64</label>"
            ],
            "text/plain": [
              "party\n",
              "democrat       95677\n",
              "republican     94223\n",
              "neutral         3429\n",
              "independent      142\n",
              "Name: count, dtype: int64"
            ]
          },
          "execution_count": 18,
          "metadata": {},
          "output_type": "execute_result"
        }
      ],
      "source": [
        "train_data['party'].value_counts()"
      ]
    },
    {
      "cell_type": "code",
      "execution_count": null,
      "metadata": {},
      "outputs": [],
      "source": [
        "import pandas as pd\n",
        "import matplotlib.pyplot as plt\n",
        "from wordcloud import WordCloud, STOPWORDS\n",
        "import nltk\n",
        "from nltk.tokenize import word_tokenize\n",
        "from nltk.corpus import stopwords\n",
        "nltk.download('punkt_tab')"
      ]
    },
    {
      "cell_type": "code",
      "execution_count": null,
      "metadata": {},
      "outputs": [],
      "source": [
        "nltk.download('punkt')\n",
        "nltk.download('stopwords')"
      ]
    },
    {
      "cell_type": "code",
      "execution_count": null,
      "metadata": {},
      "outputs": [],
      "source": [
        "def avg_answer_length(answers):\n",
        "  return sum(len(answer) for answer in answers) / len(answers)\n",
        "\n",
        "avg_lengths = {\n",
        "    'bloomz': avg_answer_length(bloomz_answers),\n",
        "    'flan': avg_answer_length(flan_answers),\n",
        "    'gptneo': avg_answer_length(gptneo_answers),\n",
        "    'gpt2': avg_answer_length(gpt2_answers),\n",
        "    'opt': avg_answer_length(opt_answers)\n",
        "}"
      ]
    },
    {
      "cell_type": "code",
      "execution_count": null,
      "metadata": {},
      "outputs": [],
      "source": [
        "def avg_tokens_per_answer(answers):\n",
        "    total_tokens = 0\n",
        "    for answer in answers:\n",
        "        tokens = word_tokenize(answer)\n",
        "        total_tokens += len(tokens)\n",
        "    return total_tokens / len(answers)\n",
        "\n",
        "avg_tokens = {\n",
        "    'bloomz': avg_tokens_per_answer(bloomz_answers),\n",
        "    'flan': avg_tokens_per_answer(flan_answers),\n",
        "    'gptneo': avg_tokens_per_answer(gptneo_answers),\n",
        "    'gpt2': avg_tokens_per_answer(gpt2_answers),\n",
        "    'opt': avg_tokens_per_answer(opt_answers)\n",
        "}"
      ]
    },
    {
      "cell_type": "code",
      "execution_count": null,
      "metadata": {},
      "outputs": [],
      "source": [
        "models = list(avg_lengths.keys())\n",
        "lengths = list(avg_lengths.values())\n",
        "tokens = list(avg_tokens.values())"
      ]
    },
    {
      "cell_type": "code",
      "execution_count": null,
      "metadata": {
        "colab": {
          "base_uri": "https://localhost:8080/",
          "height": 1000
        },
        "id": "ThPi2-Ud9GRN",
        "outputId": "a52fde3b-6676-4712-fc53-3e4b3d491924"
      },
      "outputs": [],
      "source": [
        "plt.figure(figsize=(10, 5))\n",
        "plt.bar(models, lengths, color=['skyblue', 'salmon', 'lightgreen', 'lightcoral', 'khaki'])\n",
        "plt.xlabel(\"Models\")\n",
        "plt.ylabel(\"Average Answer Length\")\n",
        "plt.title(\"Comparison of Average Answer Lengths\")\n",
        "plt.show()\n",
        "\n",
        "plt.figure(figsize=(10, 5))\n",
        "plt.bar(models, tokens, color=['skyblue', 'salmon', 'lightgreen', 'lightcoral', 'khaki'])\n",
        "plt.xlabel(\"Models\")\n",
        "plt.ylabel(\"Average Tokens per Answer\")\n",
        "plt.title(\"Comparison of Average Tokens per Answer\")\n",
        "plt.show()"
      ]
    },
    {
      "cell_type": "code",
      "execution_count": null,
      "metadata": {},
      "outputs": [],
      "source": [
        "all_answers = bloomz_answers.tolist() + flan_answers.tolist() + gptneo_answers.tolist() + gpt2_answers.tolist() + opt_answers.tolist()\n",
        "text = \" \".join(map(str, all_answers))"
      ]
    },
    {
      "cell_type": "code",
      "execution_count": null,
      "metadata": {},
      "outputs": [],
      "source": [
        "stop_words = set(stopwords.words('english'))\n",
        "additional_stopwords = {\"like\", \"said\", \"would\", \"could\", \"also\", \"get\", \"one\", \"two\", \"three\", \"many\", \"much\", \"use\", \"using\", \"know\", \"people\", \"thing\", \"things\", \"way\", \"ways\", \"make\", \"made\", \"even\", \"still\", \"may\", \"might\", \"every\", \"really\", \"lot\", \"go\", \"going\", \"see\", \"seen\", \"think\", \"thought\", \"say\", \"says\", \"saying\", \"something\", \"someone\", \"time\", \"times\", \"look\", \"looked\", \"new\", \"give\", \"given\", \"right\", \"wrong\", \"take\", \"taken\", \"another\", \"different\", \"example\", \"question\", \"answer\", \"answers\", \"comprehensive\"} # Add more comprehensive stopwords\n",
        "stop_words.update(additional_stopwords)"
      ]
    },
    {
      "cell_type": "code",
      "execution_count": null,
      "metadata": {},
      "outputs": [],
      "source": [
        "wordcloud = WordCloud(width=800, height=400,\n",
        "                      background_color='white',\n",
        "                      stopwords=stop_words,\n",
        "                      min_word_length=3, \n",
        "                      min_font_size=10).generate(text)"
      ]
    },
    {
      "cell_type": "code",
      "execution_count": null,
      "metadata": {
        "colab": {
          "base_uri": "https://localhost:8080/",
          "height": 426
        },
        "id": "jKc8ZVXJ-R0e",
        "outputId": "9d213cae-97ec-4ae1-fd67-ba337f571d0c"
      },
      "outputs": [],
      "source": [
        "plt.figure(figsize=(8, 8), facecolor=None)\n",
        "plt.imshow(wordcloud)\n",
        "plt.axis(\"off\")\n",
        "plt.tight_layout(pad=0)\n",
        "plt.title(\"Wordcloud for All Models\")\n",
        "plt.show()"
      ]
    }
  ],
  "metadata": {
    "colab": {
      "provenance": []
    },
    "kernelspec": {
      "display_name": "Python 3",
      "name": "python3"
    },
    "language_info": {
      "name": "python"
    }
  },
  "nbformat": 4,
  "nbformat_minor": 0
}
